{
 "cells": [
  {
   "cell_type": "code",
   "execution_count": 1,
   "metadata": {},
   "outputs": [],
   "source": [
    "from selenium import webdriver\n",
    "from selenium.webdriver.common.keys import Keys"
   ]
  },
  {
   "cell_type": "code",
   "execution_count": 2,
   "metadata": {},
   "outputs": [],
   "source": [
    "from selenium.webdriver.support import ui\n",
    "from selenium.webdriver.support import expected_conditions as EC\n",
    "from selenium.webdriver.common.by import By"
   ]
  },
  {
   "cell_type": "code",
   "execution_count": 3,
   "metadata": {},
   "outputs": [],
   "source": [
    "import pandas as pd\n",
    "import numpy as np"
   ]
  },
  {
   "cell_type": "code",
   "execution_count": 4,
   "metadata": {},
   "outputs": [],
   "source": [
    "import random"
   ]
  },
  {
   "cell_type": "code",
   "execution_count": 42,
   "metadata": {},
   "outputs": [],
   "source": [
    "df = pd.read_csv('quotes.csv')"
   ]
  },
  {
   "cell_type": "code",
   "execution_count": 43,
   "metadata": {},
   "outputs": [
    {
     "data": {
      "text/plain": [
       "'Genius is one percent inspiration and ninety-nine percent perspiration.'"
      ]
     },
     "execution_count": 43,
     "metadata": {},
     "output_type": "execute_result"
    }
   ],
   "source": [
    "df['Quote'][0]"
   ]
  },
  {
   "cell_type": "code",
   "execution_count": 18,
   "metadata": {},
   "outputs": [],
   "source": [
    "names = pd.read_csv('names.csv')"
   ]
  },
  {
   "cell_type": "code",
   "execution_count": 39,
   "metadata": {},
   "outputs": [],
   "source": [
    "driver = webdriver.Firefox()"
   ]
  },
  {
   "cell_type": "code",
   "execution_count": 40,
   "metadata": {},
   "outputs": [],
   "source": [
    "driver.get('https://www.instagram.com/p/B_zkietHRpu/')"
   ]
  },
  {
   "cell_type": "code",
   "execution_count": 45,
   "metadata": {},
   "outputs": [],
   "source": [
    "# comment_box = ui.WebDriverWait(driver, 10).until(EC.element_to_be_clickable((By.CSS_SELECTOR, \"textarea.Ypffh\")))\n",
    "# driver.execute_script(\"arguments[0].scrollIntoView(true);\", comment_box)\n",
    "# comment_box.send_keys(df['Quote'][100] + Keys.RETURN)"
   ]
  },
  {
   "cell_type": "code",
   "execution_count": 45,
   "metadata": {},
   "outputs": [
    {
     "ename": "KeyboardInterrupt",
     "evalue": "",
     "output_type": "error",
     "traceback": [
      "\u001b[0;31m---------------------------------------------------------------------------\u001b[0m",
      "\u001b[0;31mKeyboardInterrupt\u001b[0m                         Traceback (most recent call last)",
      "\u001b[0;32m<ipython-input-45-391f72754b3f>\u001b[0m in \u001b[0;36m<module>\u001b[0;34m\u001b[0m\n\u001b[1;32m      2\u001b[0m \u001b[0;32mfor\u001b[0m \u001b[0mi\u001b[0m \u001b[0;32min\u001b[0m \u001b[0mrange\u001b[0m\u001b[0;34m(\u001b[0m\u001b[0;36m100\u001b[0m\u001b[0;34m)\u001b[0m\u001b[0;34m:\u001b[0m\u001b[0;34m\u001b[0m\u001b[0;34m\u001b[0m\u001b[0m\n\u001b[1;32m      3\u001b[0m     \u001b[0mind\u001b[0m \u001b[0;34m=\u001b[0m \u001b[0mrandom\u001b[0m\u001b[0;34m.\u001b[0m\u001b[0mrandint\u001b[0m\u001b[0;34m(\u001b[0m\u001b[0;36m1\u001b[0m\u001b[0;34m,\u001b[0m \u001b[0mn\u001b[0m\u001b[0;34m-\u001b[0m\u001b[0;36m2\u001b[0m\u001b[0;34m)\u001b[0m\u001b[0;34m\u001b[0m\u001b[0;34m\u001b[0m\u001b[0m\n\u001b[0;32m----> 4\u001b[0;31m     \u001b[0mcomment_box\u001b[0m \u001b[0;34m=\u001b[0m \u001b[0mui\u001b[0m\u001b[0;34m.\u001b[0m\u001b[0mWebDriverWait\u001b[0m\u001b[0;34m(\u001b[0m\u001b[0mdriver\u001b[0m\u001b[0;34m,\u001b[0m \u001b[0;36m10\u001b[0m\u001b[0;34m)\u001b[0m\u001b[0;34m.\u001b[0m\u001b[0muntil\u001b[0m\u001b[0;34m(\u001b[0m\u001b[0mEC\u001b[0m\u001b[0;34m.\u001b[0m\u001b[0melement_to_be_clickable\u001b[0m\u001b[0;34m(\u001b[0m\u001b[0;34m(\u001b[0m\u001b[0mBy\u001b[0m\u001b[0;34m.\u001b[0m\u001b[0mCSS_SELECTOR\u001b[0m\u001b[0;34m,\u001b[0m \u001b[0;34m\"textarea.Ypffh\"\u001b[0m\u001b[0;34m)\u001b[0m\u001b[0;34m)\u001b[0m\u001b[0;34m)\u001b[0m\u001b[0;34m\u001b[0m\u001b[0;34m\u001b[0m\u001b[0m\n\u001b[0m\u001b[1;32m      5\u001b[0m     \u001b[0mdriver\u001b[0m\u001b[0;34m.\u001b[0m\u001b[0mexecute_script\u001b[0m\u001b[0;34m(\u001b[0m\u001b[0;34m\"arguments[0].scrollIntoView(true);\"\u001b[0m\u001b[0;34m,\u001b[0m \u001b[0mcomment_box\u001b[0m\u001b[0;34m)\u001b[0m\u001b[0;34m\u001b[0m\u001b[0;34m\u001b[0m\u001b[0m\n\u001b[1;32m      6\u001b[0m     \u001b[0mcomment_box\u001b[0m\u001b[0;34m.\u001b[0m\u001b[0msend_keys\u001b[0m\u001b[0;34m(\u001b[0m\u001b[0mdf\u001b[0m\u001b[0;34m[\u001b[0m\u001b[0;34m'Quote'\u001b[0m\u001b[0;34m]\u001b[0m\u001b[0;34m[\u001b[0m\u001b[0mi\u001b[0m\u001b[0;34m]\u001b[0m \u001b[0;34m+\u001b[0m \u001b[0mKeys\u001b[0m\u001b[0;34m.\u001b[0m\u001b[0mRETURN\u001b[0m\u001b[0;34m)\u001b[0m\u001b[0;34m\u001b[0m\u001b[0;34m\u001b[0m\u001b[0m\n",
      "\u001b[0;32m/Library/Frameworks/Python.framework/Versions/3.7/lib/python3.7/site-packages/selenium/webdriver/support/wait.py\u001b[0m in \u001b[0;36muntil\u001b[0;34m(self, method, message)\u001b[0m\n\u001b[1;32m     75\u001b[0m                 \u001b[0mscreen\u001b[0m \u001b[0;34m=\u001b[0m \u001b[0mgetattr\u001b[0m\u001b[0;34m(\u001b[0m\u001b[0mexc\u001b[0m\u001b[0;34m,\u001b[0m \u001b[0;34m'screen'\u001b[0m\u001b[0;34m,\u001b[0m \u001b[0;32mNone\u001b[0m\u001b[0;34m)\u001b[0m\u001b[0;34m\u001b[0m\u001b[0;34m\u001b[0m\u001b[0m\n\u001b[1;32m     76\u001b[0m                 \u001b[0mstacktrace\u001b[0m \u001b[0;34m=\u001b[0m \u001b[0mgetattr\u001b[0m\u001b[0;34m(\u001b[0m\u001b[0mexc\u001b[0m\u001b[0;34m,\u001b[0m \u001b[0;34m'stacktrace'\u001b[0m\u001b[0;34m,\u001b[0m \u001b[0;32mNone\u001b[0m\u001b[0;34m)\u001b[0m\u001b[0;34m\u001b[0m\u001b[0;34m\u001b[0m\u001b[0m\n\u001b[0;32m---> 77\u001b[0;31m             \u001b[0mtime\u001b[0m\u001b[0;34m.\u001b[0m\u001b[0msleep\u001b[0m\u001b[0;34m(\u001b[0m\u001b[0mself\u001b[0m\u001b[0;34m.\u001b[0m\u001b[0m_poll\u001b[0m\u001b[0;34m)\u001b[0m\u001b[0;34m\u001b[0m\u001b[0;34m\u001b[0m\u001b[0m\n\u001b[0m\u001b[1;32m     78\u001b[0m             \u001b[0;32mif\u001b[0m \u001b[0mtime\u001b[0m\u001b[0;34m.\u001b[0m\u001b[0mtime\u001b[0m\u001b[0;34m(\u001b[0m\u001b[0;34m)\u001b[0m \u001b[0;34m>\u001b[0m \u001b[0mend_time\u001b[0m\u001b[0;34m:\u001b[0m\u001b[0;34m\u001b[0m\u001b[0;34m\u001b[0m\u001b[0m\n\u001b[1;32m     79\u001b[0m                 \u001b[0;32mbreak\u001b[0m\u001b[0;34m\u001b[0m\u001b[0;34m\u001b[0m\u001b[0m\n",
      "\u001b[0;31mKeyboardInterrupt\u001b[0m: "
     ]
    }
   ],
   "source": [
    "n = df.shape[0]\n",
    "for i in range(100):\n",
    "    ind = random.randint(1, n-2)\n",
    "    comment_box = ui.WebDriverWait(driver, 10).until(EC.element_to_be_clickable((By.CSS_SELECTOR, \"textarea.Ypffh\")))\n",
    "    driver.execute_script(\"arguments[0].scrollIntoView(true);\", comment_box)\n",
    "    comment_box.send_keys(df['Quote'][i] + Keys.RETURN)"
   ]
  },
  {
   "cell_type": "code",
   "execution_count": 31,
   "metadata": {},
   "outputs": [],
   "source": [
    "import time"
   ]
  },
  {
   "cell_type": "code",
   "execution_count": 32,
   "metadata": {},
   "outputs": [],
   "source": [
    "cnt = 89"
   ]
  },
  {
   "cell_type": "code",
   "execution_count": 36,
   "metadata": {},
   "outputs": [
    {
     "ename": "KeyboardInterrupt",
     "evalue": "",
     "output_type": "error",
     "traceback": [
      "\u001b[0;31m---------------------------------------------------------------------------\u001b[0m",
      "\u001b[0;31mKeyboardInterrupt\u001b[0m                         Traceback (most recent call last)",
      "\u001b[0;32m<ipython-input-36-ae82d011e0d0>\u001b[0m in \u001b[0;36m<module>\u001b[0;34m\u001b[0m\n\u001b[1;32m      2\u001b[0m \u001b[0mstart\u001b[0m \u001b[0;34m=\u001b[0m \u001b[0mcnt\u001b[0m\u001b[0;34m\u001b[0m\u001b[0;34m\u001b[0m\u001b[0m\n\u001b[1;32m      3\u001b[0m \u001b[0;32mfor\u001b[0m \u001b[0mi\u001b[0m \u001b[0;32min\u001b[0m \u001b[0mrange\u001b[0m\u001b[0;34m(\u001b[0m\u001b[0mstart\u001b[0m \u001b[0;34m,\u001b[0m \u001b[0mn\u001b[0m\u001b[0;34m)\u001b[0m\u001b[0;34m:\u001b[0m\u001b[0;34m\u001b[0m\u001b[0;34m\u001b[0m\u001b[0m\n\u001b[0;32m----> 4\u001b[0;31m     \u001b[0mcomment_box\u001b[0m \u001b[0;34m=\u001b[0m \u001b[0mui\u001b[0m\u001b[0;34m.\u001b[0m\u001b[0mWebDriverWait\u001b[0m\u001b[0;34m(\u001b[0m\u001b[0mdriver\u001b[0m\u001b[0;34m,\u001b[0m \u001b[0;36m30\u001b[0m\u001b[0;34m)\u001b[0m\u001b[0;34m.\u001b[0m\u001b[0muntil\u001b[0m\u001b[0;34m(\u001b[0m\u001b[0mEC\u001b[0m\u001b[0;34m.\u001b[0m\u001b[0melement_to_be_clickable\u001b[0m\u001b[0;34m(\u001b[0m\u001b[0;34m(\u001b[0m\u001b[0mBy\u001b[0m\u001b[0;34m.\u001b[0m\u001b[0mCSS_SELECTOR\u001b[0m\u001b[0;34m,\u001b[0m \u001b[0;34m\"textarea.Ypffh\"\u001b[0m\u001b[0;34m)\u001b[0m\u001b[0;34m)\u001b[0m\u001b[0;34m)\u001b[0m\u001b[0;34m\u001b[0m\u001b[0;34m\u001b[0m\u001b[0m\n\u001b[0m\u001b[1;32m      5\u001b[0m     \u001b[0mdriver\u001b[0m\u001b[0;34m.\u001b[0m\u001b[0mexecute_script\u001b[0m\u001b[0;34m(\u001b[0m\u001b[0;34m\"arguments[0].scrollIntoView(true);\"\u001b[0m\u001b[0;34m,\u001b[0m \u001b[0mcomment_box\u001b[0m\u001b[0;34m)\u001b[0m\u001b[0;34m\u001b[0m\u001b[0;34m\u001b[0m\u001b[0m\n\u001b[1;32m      6\u001b[0m     \u001b[0mcomment_box\u001b[0m\u001b[0;34m.\u001b[0m\u001b[0msend_keys\u001b[0m\u001b[0;34m(\u001b[0m\u001b[0;34m'@'\u001b[0m \u001b[0;34m+\u001b[0m \u001b[0mnames\u001b[0m\u001b[0;34m[\u001b[0m\u001b[0;34m'0'\u001b[0m\u001b[0;34m]\u001b[0m\u001b[0;34m[\u001b[0m\u001b[0mi\u001b[0m\u001b[0;34m]\u001b[0m \u001b[0;34m+\u001b[0m \u001b[0mKeys\u001b[0m\u001b[0;34m.\u001b[0m\u001b[0mRETURN\u001b[0m\u001b[0;34m)\u001b[0m\u001b[0;34m\u001b[0m\u001b[0;34m\u001b[0m\u001b[0m\n",
      "\u001b[0;32m/Library/Frameworks/Python.framework/Versions/3.7/lib/python3.7/site-packages/selenium/webdriver/support/wait.py\u001b[0m in \u001b[0;36muntil\u001b[0;34m(self, method, message)\u001b[0m\n\u001b[1;32m     75\u001b[0m                 \u001b[0mscreen\u001b[0m \u001b[0;34m=\u001b[0m \u001b[0mgetattr\u001b[0m\u001b[0;34m(\u001b[0m\u001b[0mexc\u001b[0m\u001b[0;34m,\u001b[0m \u001b[0;34m'screen'\u001b[0m\u001b[0;34m,\u001b[0m \u001b[0;32mNone\u001b[0m\u001b[0;34m)\u001b[0m\u001b[0;34m\u001b[0m\u001b[0;34m\u001b[0m\u001b[0m\n\u001b[1;32m     76\u001b[0m                 \u001b[0mstacktrace\u001b[0m \u001b[0;34m=\u001b[0m \u001b[0mgetattr\u001b[0m\u001b[0;34m(\u001b[0m\u001b[0mexc\u001b[0m\u001b[0;34m,\u001b[0m \u001b[0;34m'stacktrace'\u001b[0m\u001b[0;34m,\u001b[0m \u001b[0;32mNone\u001b[0m\u001b[0;34m)\u001b[0m\u001b[0;34m\u001b[0m\u001b[0;34m\u001b[0m\u001b[0m\n\u001b[0;32m---> 77\u001b[0;31m             \u001b[0mtime\u001b[0m\u001b[0;34m.\u001b[0m\u001b[0msleep\u001b[0m\u001b[0;34m(\u001b[0m\u001b[0mself\u001b[0m\u001b[0;34m.\u001b[0m\u001b[0m_poll\u001b[0m\u001b[0;34m)\u001b[0m\u001b[0;34m\u001b[0m\u001b[0;34m\u001b[0m\u001b[0m\n\u001b[0m\u001b[1;32m     78\u001b[0m             \u001b[0;32mif\u001b[0m \u001b[0mtime\u001b[0m\u001b[0;34m.\u001b[0m\u001b[0mtime\u001b[0m\u001b[0;34m(\u001b[0m\u001b[0;34m)\u001b[0m \u001b[0;34m>\u001b[0m \u001b[0mend_time\u001b[0m\u001b[0;34m:\u001b[0m\u001b[0;34m\u001b[0m\u001b[0;34m\u001b[0m\u001b[0m\n\u001b[1;32m     79\u001b[0m                 \u001b[0;32mbreak\u001b[0m\u001b[0;34m\u001b[0m\u001b[0;34m\u001b[0m\u001b[0m\n",
      "\u001b[0;31mKeyboardInterrupt\u001b[0m: "
     ]
    }
   ],
   "source": [
    "n = len(names)\n",
    "start = cnt\n",
    "for i in range(start , n):\n",
    "    comment_box = ui.WebDriverWait(driver, 30).until(EC.element_to_be_clickable((By.CSS_SELECTOR, \"textarea.Ypffh\")))\n",
    "    driver.execute_script(\"arguments[0].scrollIntoView(true);\", comment_box)\n",
    "    comment_box.send_keys('@' + names['0'][i] + Keys.RETURN)\n",
    "#     time.sleep(15)\n",
    "    cnt = i"
   ]
  },
  {
   "cell_type": "code",
   "execution_count": 37,
   "metadata": {},
   "outputs": [
    {
     "data": {
      "text/plain": [
       "88"
      ]
     },
     "execution_count": 37,
     "metadata": {},
     "output_type": "execute_result"
    }
   ],
   "source": [
    "cnt"
   ]
  },
  {
   "cell_type": "code",
   "execution_count": 8,
   "metadata": {},
   "outputs": [],
   "source": [
    "driver.get('https://www.instagram.com/yesssenaly/followers/')"
   ]
  },
  {
   "cell_type": "code",
   "execution_count": 9,
   "metadata": {},
   "outputs": [],
   "source": [
    "folls = driver.find_elements_by_xpath(\"//*[contains(@class,'FPmhX')]\")"
   ]
  },
  {
   "cell_type": "code",
   "execution_count": 10,
   "metadata": {},
   "outputs": [
    {
     "data": {
      "text/plain": [
       "'zhanaelle'"
      ]
     },
     "execution_count": 10,
     "metadata": {},
     "output_type": "execute_result"
    }
   ],
   "source": [
    "folls[2].text"
   ]
  },
  {
   "cell_type": "code",
   "execution_count": 11,
   "metadata": {},
   "outputs": [
    {
     "data": {
      "text/plain": [
       "309"
      ]
     },
     "execution_count": 11,
     "metadata": {},
     "output_type": "execute_result"
    }
   ],
   "source": [
    "len(folls)"
   ]
  },
  {
   "cell_type": "code",
   "execution_count": 12,
   "metadata": {},
   "outputs": [
    {
     "data": {
      "text/plain": [
       "309"
      ]
     },
     "execution_count": 12,
     "metadata": {},
     "output_type": "execute_result"
    }
   ],
   "source": [
    "len(folls)"
   ]
  },
  {
   "cell_type": "code",
   "execution_count": 13,
   "metadata": {},
   "outputs": [],
   "source": [
    "names = []\n",
    "for i in range(len(folls)):\n",
    "    names.append(folls[i].text)"
   ]
  },
  {
   "cell_type": "code",
   "execution_count": 14,
   "metadata": {},
   "outputs": [
    {
     "data": {
      "text/plain": [
       "['_pakita',\n",
       " 'baktiar_90',\n",
       " 'zhanaelle',\n",
       " 'its.meru',\n",
       " 'memgags',\n",
       " 'avarkazavarka',\n",
       " 'mnlbv08',\n",
       " '__modern_nomad__',\n",
       " 'sirimota',\n",
       " 'issvbvyewa',\n",
       " 'dinassil.07.17',\n",
       " 'qiyal_wear',\n",
       " 'berikovnaofficial',\n",
       " 'fronzoli_showroom_kz',\n",
       " 'kunduzoo',\n",
       " 'kmadina___',\n",
       " 'alusha_sh',\n",
       " 'd4nk.e',\n",
       " 'sakenilyassov',\n",
       " 'etinakrey',\n",
       " 'yeldos47',\n",
       " 'ktncw',\n",
       " 'nurdosick',\n",
       " 'akbotaaaa',\n",
       " 'marykay55554',\n",
       " 'eyezhann',\n",
       " 'nur.khaj',\n",
       " 'st.daniyar',\n",
       " 'danara_moon',\n",
       " 'sabinaww',\n",
       " 'marshsmash',\n",
       " 'didara.at',\n",
       " 'tlbv1603',\n",
       " 'sanzhar.tukeyev',\n",
       " 'saken_00007',\n",
       " 'alyonkim',\n",
       " 'y.alpyssov',\n",
       " 'rakhimovarymgul',\n",
       " 'ohtwowall',\n",
       " 'aluasmagulova',\n",
       " 'iv_vanderbeek',\n",
       " 'dastik_m',\n",
       " 'narymbek_kz',\n",
       " 'sophie.toktar',\n",
       " 'hey__lizzie',\n",
       " 'rashatkyzy',\n",
       " 'heyrusya',\n",
       " 'prof_consult',\n",
       " 'botaa_k',\n",
       " 'ykylasz',\n",
       " 'abdallakh.09',\n",
       " 'nnight_soulss',\n",
       " 'belasar_a',\n",
       " 'chaimardan',\n",
       " 'djabaiy',\n",
       " 'musabaeva_17',\n",
       " 'ualibekova.aida',\n",
       " 'kundyzbekxv',\n",
       " 'addellyaaa',\n",
       " 'yeldos21',\n",
       " 'qaparr',\n",
       " 'your_obsessionl',\n",
       " 'adlettohtabaev',\n",
       " 'alpamys_baktybay',\n",
       " 'seitzhan.m',\n",
       " 'askar_serikkhanov',\n",
       " '010.adl',\n",
       " 'abylaikhansb',\n",
       " 'serikovv.d',\n",
       " 'beknur.abv',\n",
       " 'parfum__astana01',\n",
       " 'miss_jibek',\n",
       " 'alihuuuntr',\n",
       " 'adelkanalisher',\n",
       " 'aizhana_g99',\n",
       " 'aiskalievco',\n",
       " 'tomi_drb',\n",
       " 'aidyn_ms',\n",
       " 'sharikikz_almaty',\n",
       " 'statickquell',\n",
       " 'aynuriya',\n",
       " 'rasimito',\n",
       " 'elyakazbekova',\n",
       " '01ncn01',\n",
       " 'spiderman_ala',\n",
       " 'takeit_shopkz',\n",
       " 'armstrong.almaty',\n",
       " 'iamaltairs',\n",
       " 'luxurycalypso',\n",
       " 'akhmettayeva.akerke',\n",
       " 'codebuster0',\n",
       " 'zhanel5',\n",
       " 'theend198',\n",
       " 'zhaniyaabdibek',\n",
       " 'bakhyshev',\n",
       " 'barbossa_shoes',\n",
       " 'flipflop.almaty',\n",
       " 'mukhatov_07',\n",
       " 'kojima_is_genius',\n",
       " 'pashka_kim',\n",
       " 'yeldan_s',\n",
       " 'seidakhanovd',\n",
       " 'kamilzhvn',\n",
       " 'ya_aidana',\n",
       " 'aiymabs_s',\n",
       " 'nuptebek',\n",
       " 'baibaktiyevaa',\n",
       " 'parka_aalmaty',\n",
       " 'ameliya.q',\n",
       " 'rznv.akmb',\n",
       " 'kulyashknr',\n",
       " 'cocaine.coke',\n",
       " 'deleted_111account111',\n",
       " 'nesanzhar',\n",
       " 'buytime.kazakhstan',\n",
       " 'artgallery_olly',\n",
       " 'aisultankali',\n",
       " 'mvgzhan',\n",
       " 'wlnightmare',\n",
       " 'aiyashamil',\n",
       " 'brow.nails_dsl.msu',\n",
       " 'fat_cat06',\n",
       " 'darikoshaaaaa',\n",
       " 'almajesty_',\n",
       " 'gohamun',\n",
       " 'dana_tur',\n",
       " 'assylbekov_b',\n",
       " 'amani.yb',\n",
       " 'queenurss',\n",
       " 'toktars',\n",
       " 'daurbrw',\n",
       " 'focus.almaty',\n",
       " 'beksultan98',\n",
       " 'dauletovzhuldyz',\n",
       " 'so_symbatty',\n",
       " 'ayala.ala',\n",
       " 'gulim_mukhtarova',\n",
       " 'bmwfamilykz',\n",
       " 'akbota_sm',\n",
       " 'ademshoes',\n",
       " 'aruzhankaaf',\n",
       " 'aidarustam977',\n",
       " 'zhaskairatovt',\n",
       " 'alikhan880',\n",
       " 'eat_and_study',\n",
       " 'fuckyoukbtu',\n",
       " 'reurz6324',\n",
       " 'zharaskhan',\n",
       " 'flashedu',\n",
       " 'lovedate',\n",
       " '_0shame',\n",
       " 'altynaay_',\n",
       " 'aigerimsadir',\n",
       " 'kizzybroadbent.666',\n",
       " 'amirallison',\n",
       " 'madekasun',\n",
       " 'dinanovmukhamedzhan',\n",
       " 'samirova001',\n",
       " 'marlenshamil',\n",
       " 'lalaiym',\n",
       " 'aigana_akylova',\n",
       " 'n.bots',\n",
       " 'abenova_aimira',\n",
       " 'tulips.power',\n",
       " 'turdakynbay.a',\n",
       " 'daniel_gorji1',\n",
       " 'diana_sadirbekovaa',\n",
       " 'cyber_sport_shop',\n",
       " 'ise_kbtu',\n",
       " 'fakebaglan',\n",
       " 'taniasyborova',\n",
       " 'locvnb',\n",
       " 'kzsnapchatkz',\n",
       " 'rabota8553',\n",
       " 'sumekenov',\n",
       " 'mu.hublot.1pps',\n",
       " 'ethereal.pink.dragon',\n",
       " 'kobegenovaisultan',\n",
       " 'kobegenovv',\n",
       " 'muhamed050',\n",
       " 'tanirovka.almata',\n",
       " 'aijan_azimjanovna',\n",
       " 'aspandiyar.k',\n",
       " 'adiletabs',\n",
       " 'jdmlife010',\n",
       " 'shorika_',\n",
       " 'ilvina07777',\n",
       " 'nikitos0548',\n",
       " 'filitsovasveta',\n",
       " 'natanutela',\n",
       " 'bikininesport',\n",
       " 'uexxbh104',\n",
       " 'acvx',\n",
       " 'toscha.karetin',\n",
       " 'herom_nin',\n",
       " 'viktoryazorova',\n",
       " 'we_smile7',\n",
       " 'dontsova23',\n",
       " 'valera.khokhlov',\n",
       " 'shugaringvkazani',\n",
       " 'maratulym',\n",
       " '_itsnotalina_',\n",
       " 'mr_enot_waf',\n",
       " 'alibounce',\n",
       " 'aishu_k_',\n",
       " 'malesha_m',\n",
       " 'a_magzhan',\n",
       " 'prostohabibi',\n",
       " 'damir606606',\n",
       " 'maratqyzy.h',\n",
       " 'maxmaratuly',\n",
       " 'ara.checker',\n",
       " 'sagitovat',\n",
       " 'bulaatov',\n",
       " 'maylebaeva',\n",
       " 'azh_055',\n",
       " 'nurtas.202',\n",
       " 'altortay',\n",
       " 'daniarliament',\n",
       " 'mergengames',\n",
       " 'clasico1112',\n",
       " 'nursulu_sbc',\n",
       " 'zheksembayev',\n",
       " 'daniya.mk',\n",
       " 'asel_sag',\n",
       " 'mellatova_',\n",
       " 'madendinara',\n",
       " 'timsultanich',\n",
       " 'loyanelty',\n",
       " 'mdmur',\n",
       " 'almas_oral',\n",
       " 'unfckblepuma',\n",
       " 'modnaya_soroka',\n",
       " 'tolybaevfarabi',\n",
       " 'kuanysh_suleimen',\n",
       " 'and_pavel_',\n",
       " 'roma_1002',\n",
       " 'zimanovalikhan',\n",
       " 'alimzhanov.b',\n",
       " 'd.altushka',\n",
       " 'botaknows',\n",
       " 'vngelo13',\n",
       " 'redyassebov.r',\n",
       " 'supertorex',\n",
       " 'company_winners',\n",
       " 'klever_bet',\n",
       " 'lashmaker.yugai02',\n",
       " 'dimdavidbk',\n",
       " 'betstar.kz',\n",
       " 'tusssupov2015',\n",
       " 'yasminburambayeva',\n",
       " 'symbat.seitzhan',\n",
       " 'jomart.ablassanov',\n",
       " 'arnurkotoriykrutoyparen',\n",
       " 'daaryn',\n",
       " 'dastanbaitursynov',\n",
       " 'jamalungma_',\n",
       " 'sumka_roddoma',\n",
       " 'ibknva',\n",
       " 'kyba_ali',\n",
       " 'darigummy',\n",
       " 'a_ondasbaev',\n",
       " 'o_salikh_',\n",
       " 'sultantursunov',\n",
       " 'daniyarkadyrbekov',\n",
       " 'dohchuk',\n",
       " 'taipovs',\n",
       " 'eleusiz',\n",
       " 'askme_now_',\n",
       " 'barcelona_mix_goals',\n",
       " 'alibekkr',\n",
       " 'english_almaty01',\n",
       " 'zimanovtemirkhan',\n",
       " 'teamskiy',\n",
       " 'shoratbayeva',\n",
       " 'daniyar.kbv',\n",
       " 'donzilla_game_club',\n",
       " 'open_space_almaty',\n",
       " 'mybottlealmaty',\n",
       " 'playroom.kz',\n",
       " 'ruslanzayats1998',\n",
       " 'damiko_mdd',\n",
       " 'ostanovka_cafe',\n",
       " 'k_omarova',\n",
       " 'nurba.xo',\n",
       " 'sun.jar_',\n",
       " 'nikita_kvitko',\n",
       " 'dr.alikhan',\n",
       " '__smarzhan__',\n",
       " 'aruka2901',\n",
       " 'sweetshirts_ala',\n",
       " 'sadda11_asm',\n",
       " 'albagrigoryev_22',\n",
       " 'secrets_for_beauty',\n",
       " 'zhunissaliyelaman',\n",
       " 'don_ereke',\n",
       " 'amway_almaty_',\n",
       " 'playonekz',\n",
       " 'abylai2402',\n",
       " 'yuliya.kenzhebayeva',\n",
       " 'adilet23',\n",
       " 'zhanarbekuly10',\n",
       " 'nazari_abs',\n",
       " '_nurila__',\n",
       " 'airika_n',\n",
       " 'tursunov_',\n",
       " 'alimovd',\n",
       " 'kulaskhat',\n",
       " 'dunennstmichokami']"
      ]
     },
     "execution_count": 14,
     "metadata": {},
     "output_type": "execute_result"
    }
   ],
   "source": [
    "names"
   ]
  },
  {
   "cell_type": "code",
   "execution_count": 15,
   "metadata": {},
   "outputs": [],
   "source": [
    "df = pd.DataFrame(names) "
   ]
  },
  {
   "cell_type": "code",
   "execution_count": 16,
   "metadata": {},
   "outputs": [
    {
     "data": {
      "text/html": [
       "<div>\n",
       "<style scoped>\n",
       "    .dataframe tbody tr th:only-of-type {\n",
       "        vertical-align: middle;\n",
       "    }\n",
       "\n",
       "    .dataframe tbody tr th {\n",
       "        vertical-align: top;\n",
       "    }\n",
       "\n",
       "    .dataframe thead th {\n",
       "        text-align: right;\n",
       "    }\n",
       "</style>\n",
       "<table border=\"1\" class=\"dataframe\">\n",
       "  <thead>\n",
       "    <tr style=\"text-align: right;\">\n",
       "      <th></th>\n",
       "      <th>0</th>\n",
       "    </tr>\n",
       "  </thead>\n",
       "  <tbody>\n",
       "    <tr>\n",
       "      <td>0</td>\n",
       "      <td>_pakita</td>\n",
       "    </tr>\n",
       "    <tr>\n",
       "      <td>1</td>\n",
       "      <td>baktiar_90</td>\n",
       "    </tr>\n",
       "    <tr>\n",
       "      <td>2</td>\n",
       "      <td>zhanaelle</td>\n",
       "    </tr>\n",
       "    <tr>\n",
       "      <td>3</td>\n",
       "      <td>its.meru</td>\n",
       "    </tr>\n",
       "    <tr>\n",
       "      <td>4</td>\n",
       "      <td>memgags</td>\n",
       "    </tr>\n",
       "    <tr>\n",
       "      <td>...</td>\n",
       "      <td>...</td>\n",
       "    </tr>\n",
       "    <tr>\n",
       "      <td>304</td>\n",
       "      <td>airika_n</td>\n",
       "    </tr>\n",
       "    <tr>\n",
       "      <td>305</td>\n",
       "      <td>tursunov_</td>\n",
       "    </tr>\n",
       "    <tr>\n",
       "      <td>306</td>\n",
       "      <td>alimovd</td>\n",
       "    </tr>\n",
       "    <tr>\n",
       "      <td>307</td>\n",
       "      <td>kulaskhat</td>\n",
       "    </tr>\n",
       "    <tr>\n",
       "      <td>308</td>\n",
       "      <td>dunennstmichokami</td>\n",
       "    </tr>\n",
       "  </tbody>\n",
       "</table>\n",
       "<p>309 rows × 1 columns</p>\n",
       "</div>"
      ],
      "text/plain": [
       "                     0\n",
       "0              _pakita\n",
       "1           baktiar_90\n",
       "2            zhanaelle\n",
       "3             its.meru\n",
       "4              memgags\n",
       "..                 ...\n",
       "304           airika_n\n",
       "305          tursunov_\n",
       "306            alimovd\n",
       "307          kulaskhat\n",
       "308  dunennstmichokami\n",
       "\n",
       "[309 rows x 1 columns]"
      ]
     },
     "execution_count": 16,
     "metadata": {},
     "output_type": "execute_result"
    }
   ],
   "source": [
    "df"
   ]
  },
  {
   "cell_type": "code",
   "execution_count": 17,
   "metadata": {},
   "outputs": [],
   "source": [
    "exp = df.to_csv('names.csv')"
   ]
  },
  {
   "cell_type": "code",
   "execution_count": null,
   "metadata": {},
   "outputs": [],
   "source": []
  }
 ],
 "metadata": {
  "kernelspec": {
   "display_name": "Python 3",
   "language": "python",
   "name": "python3"
  },
  "language_info": {
   "codemirror_mode": {
    "name": "ipython",
    "version": 3
   },
   "file_extension": ".py",
   "mimetype": "text/x-python",
   "name": "python",
   "nbconvert_exporter": "python",
   "pygments_lexer": "ipython3",
   "version": "3.7.4"
  }
 },
 "nbformat": 4,
 "nbformat_minor": 2
}
